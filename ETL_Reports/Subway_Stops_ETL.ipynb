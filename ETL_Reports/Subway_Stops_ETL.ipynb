{
 "cells": [
  {
   "attachments": {},
   "cell_type": "markdown",
   "metadata": {},
   "source": [
    "### Read in file containing all subway entrances/exits from https://data.ny.gov/Transportation/NYC-Transit-Subway-Station-Map/6xm2-7ffy"
   ]
  },
  {
   "cell_type": "code",
   "execution_count": null,
   "metadata": {},
   "outputs": [],
   "source": [
    "import pandas as pd\n",
    "stopsNYC = pd.read_csv('NYC_Transit_Subway_Entrance_And_Exit_Data.csv')\n"
   ]
  },
  {
   "attachments": {},
   "cell_type": "markdown",
   "metadata": {},
   "source": [
    "Fill nulls and change data types"
   ]
  },
  {
   "cell_type": "code",
   "execution_count": null,
   "metadata": {},
   "outputs": [],
   "source": [
    "stopsNYC = stopsNYC.fillna(0)\n",
    "\n",
    "#change to int to get rid of decimal\n",
    "stopsNYC = stopsNYC.astype({'Route8': int, 'Route9': int, 'Route10': int, 'Route11': int})\n",
    "\n",
    "#change to object to match other route columns\n",
    "stopsNYC = stopsNYC.astype({'Route8': object, 'Route9': object, 'Route10': object, 'Route11': object})\n",
    "\n",
    "#change all route columns to string to concatentate\n",
    "stopsNYC = stopsNYC.astype({'Route1': str, 'Route2': str, 'Route3': str, 'Route4': str, 'Route5': str, 'Route6': str, 'Route7': str, 'Route8': str, 'Route9': str, 'Route10': str, 'Route11': str})"
   ]
  },
  {
   "attachments": {},
   "cell_type": "markdown",
   "metadata": {},
   "source": [
    "Combine all line columns into one, placing zeros when the line doesn't stop at the station, and separating by commas"
   ]
  },
  {
   "cell_type": "code",
   "execution_count": null,
   "metadata": {},
   "outputs": [],
   "source": [
    "cols = ['Route1','Route2','Route3','Route4','Route5','Route6','Route7','Route8','Route9','Route10','Route11']\n",
    "stopsNYC['All Lines'] = stopsNYC[cols].apply(lambda row: ', '.join(row.values.astype(str)), axis =1)"
   ]
  },
  {
   "attachments": {},
   "cell_type": "markdown",
   "metadata": {},
   "source": [
    "Remove original line columns"
   ]
  },
  {
   "cell_type": "code",
   "execution_count": null,
   "metadata": {},
   "outputs": [],
   "source": [
    "stopsNYC = stopsNYC.drop(['Route1','Route2','Route3','Route4','Route5','Route6','Route7','Route8','Route9','Route10','Route11'], axis= 1)"
   ]
  },
  {
   "attachments": {},
   "cell_type": "markdown",
   "metadata": {},
   "source": [
    "Drop unneeded columns"
   ]
  },
  {
   "cell_type": "code",
   "execution_count": null,
   "metadata": {},
   "outputs": [],
   "source": [
    "stopsNYC = stopsNYC.drop(['Entrance Type','Entry','Exit Only','Vending','Staff Hours','ADA','ADA Notes','Free Crossover','North South Street','East West Street','Corner','Entrance Latitude','Entrance Longitude','Station Location','Entrance Location','entrance_georeference','station_georeference'], axis = 1)"
   ]
  },
  {
   "attachments": {},
   "cell_type": "markdown",
   "metadata": {},
   "source": [
    "Remove errors by index - This is errors from the original data that created extra rows when aggregated."
   ]
  },
  {
   "cell_type": "code",
   "execution_count": null,
   "metadata": {},
   "outputs": [],
   "source": [
    "stopsNYC = stopsNYC.drop([stopsNYC.index[153],stopsNYC.index[1231]])"
   ]
  },
  {
   "attachments": {},
   "cell_type": "markdown",
   "metadata": {},
   "source": [
    "Group by line, station name and all lines to focus on station latitude and longitude, not each individual entrance. Aggregate the station longitude and latitude - All have the same values, so choosing median() will not change the output."
   ]
  },
  {
   "cell_type": "code",
   "execution_count": null,
   "metadata": {},
   "outputs": [],
   "source": [
    "stopsNYCexport = stopsNYC.groupby(['Line','Station Name','All Lines'])['Station Latitude','Station Longitude'].median()"
   ]
  },
  {
   "attachments": {},
   "cell_type": "markdown",
   "metadata": {},
   "source": [
    "Export to csv in a folder for exported data"
   ]
  },
  {
   "cell_type": "code",
   "execution_count": null,
   "metadata": {},
   "outputs": [],
   "source": [
    "stopsNYCexport.to_csv(r'C:\\{file_path}\\Exports\\stopsNYCgrouped.csv', header=True)"
   ]
  }
 ],
 "metadata": {
  "kernelspec": {
   "display_name": "base",
   "language": "python",
   "name": "python3"
  },
  "language_info": {
   "name": "python",
   "version": "3.9.13 (main, Aug 25 2022, 23:51:50) [MSC v.1916 64 bit (AMD64)]"
  },
  "orig_nbformat": 4,
  "vscode": {
   "interpreter": {
    "hash": "1643639e6d89f06a3b88736f47d07c6c9b55a5b70383cc3272fa94752bd05ca9"
   }
  }
 },
 "nbformat": 4,
 "nbformat_minor": 2
}
